{
  "cells": [
    {
      "cell_type": "markdown",
      "metadata": {},
      "source": [
        "#"
      ],
      "id": "3a437afb-8748-4965-97c0-40eb50e7bf8f"
    },
    {
      "cell_type": "code",
      "execution_count": 1,
      "metadata": {},
      "outputs": [],
      "source": [
        "import pandas as pd\n",
        "import numpy as np\n",
        "import geopandas as gpd\n",
        "import matplotlib.pyplot as plt\n",
        "\n",
        "data = pd.read_excel('clean_data/border_stats.xlsx', sheet_name=None)"
      ],
      "id": "cell-0"
    },
    {
      "cell_type": "code",
      "execution_count": 2,
      "metadata": {},
      "outputs": [
        {
          "output_type": "stream",
          "name": "stderr",
          "text": [
            "/var/folders/j7/k7qj823s0t31v_8yw_h2y2qh0000gn/T/ipykernel_13454/3078681020.py:4: FutureWarning: The geopandas.dataset module is deprecated and will be removed in GeoPandas 1.0. You can get the original 'naturalearth_lowres' data from https://www.naturalearthdata.com/downloads/110m-cultural-vectors/.\n",
            "  world = gpd.read_file(gpd.datasets.get_path('naturalearth_lowres'))\n",
            "No artists with labels found to put in legend.  Note that artists whose label start with an underscore are ignored when legend() is called with no argument."
          ]
        },
        {
          "output_type": "display_data",
          "metadata": {},
          "data": {}
        }
      ],
      "source": [
        "# Load North America shapefile\n",
        "world = gpd.read_file(gpd.datasets.get_path('naturalearth_lowres'))\n",
        "\n",
        "# Filter for North America countries\n",
        "north_america = world[(world['continent'] == 'North America')]\n",
        "\n",
        "# Filter out Hawaii\n",
        "usa = north_america[north_america['name'] == 'United States of America']\n",
        "usa = usa.explode(index_parts=True)  # Explode multipolygon geometries\n",
        "continental_usa = usa[~usa.geometry.bounds.apply(lambda b: b['maxy'], axis=1).between(20, 30)]  # Remove Hawaii\n",
        "\n",
        "# Combine with Canada and Mexico\n",
        "canada_mexico = north_america[north_america['name'].isin(['Canada', 'Mexico'])]\n",
        "north_america_filtered = pd.concat([continental_usa, canada_mexico])\n",
        "\n",
        "# Plot the map\n",
        "fig, ax = plt.subplots(1, 1, figsize=(12, 6))\n",
        "continental_usa.plot(ax=ax, color='#9357c6', alpha=.65)\n",
        "ax.legend()\n",
        "canada_mexico.plot(ax=ax, color='gray', alpha=0.3)\n",
        "\n",
        "# Set the limits for x and y axes to zoom in on the area under y=55 and between x=-130 and 60\n",
        "ax.set_xlim([-130, -60])\n",
        "ax.set_ylim([20, 55])\n",
        "\n",
        "# Hide axis tick marks and labels\n",
        "ax.set_xticks([])\n",
        "ax.set_yticks([])\n",
        "\n",
        "# Extract boundaries\n",
        "north_america_boundary = north_america.geometry.boundary\n",
        "\n",
        "us_boundary = continental_usa.geometry.boundary.unary_union\n",
        "canada_boundary = canada_mexico[canada_mexico['name'] == 'Canada'].geometry.boundary.unary_union\n",
        "mexico_boundary = canada_mexico[canada_mexico['name'] == 'Mexico'].geometry.boundary.unary_union\n",
        "\n",
        "# Find the intersection between US and Canada borders, and US and Mexico borders\n",
        "us_canada_border = us_boundary.intersection(canada_boundary)\n",
        "us_mexico_border = us_boundary.intersection(mexico_boundary)\n",
        "\n",
        "# Plot US-Canada and US-Mexico borders\n",
        "north_america.boundary.plot(ax=ax, color='black')\n",
        "gpd.GeoSeries([us_canada_border]).plot(ax=ax, color='blue', linewidth=3, label='US-Canada Border')\n",
        "gpd.GeoSeries([us_mexico_border]).plot(ax=ax, color='red', linewidth=3, label='US-Mexico Border')\n",
        "\n",
        "# Add legend\n",
        "ax.legend()\n",
        "\n",
        "plt.title('The United States\\'s Borders')\n",
        "plt.text(x=-75, y=18, s='Illustration made by Max Sands')\n",
        "plt.show()\n"
      ],
      "id": "cell-fig-us_map"
    },
    {
      "cell_type": "code",
      "execution_count": 6,
      "metadata": {},
      "outputs": [],
      "source": [
        "df = data['CBP Encounter by type + Region']\n",
        "x = df[df['Top Var'] == 'Total CBP']"
      ],
      "id": "cell-2"
    },
    {
      "cell_type": "code",
      "execution_count": 8,
      "metadata": {},
      "outputs": [],
      "source": [
        "x = x.pivot(index='Calendar Date', values='value', columns='Sub Var')"
      ],
      "id": "cell-3"
    },
    {
      "cell_type": "code",
      "execution_count": 11,
      "metadata": {},
      "outputs": [
        {
          "output_type": "display_data",
          "metadata": {},
          "data": {
            "text/html": [
              "\n",
              "<p>121 rows × 5 columns</p>\n",
              "</div>"
            ]
          }
        }
      ],
      "source": [
        "x"
      ],
      "id": "cell-4"
    },
    {
      "cell_type": "code",
      "execution_count": 22,
      "metadata": {},
      "outputs": [],
      "source": [
        "import seaborn as sns"
      ],
      "id": "cell-5"
    }
  ],
  "nbformat": 4,
  "nbformat_minor": 5,
  "metadata": {
    "kernelspec": {
      "name": "python3",
      "display_name": "Python 3",
      "language": "python"
    },
    "language_info": {
      "name": "python",
      "codemirror_mode": {
        "name": "ipython",
        "version": "3"
      },
      "file_extension": ".py",
      "mimetype": "text/x-python",
      "nbconvert_exporter": "python",
      "pygments_lexer": "ipython3",
      "version": "3.12.2"
    }
  }
}